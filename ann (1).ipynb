{
  "cells": [
    {
      "cell_type": "markdown",
      "source": [
        "**Artificial Neural Network to predict Match-winning Team**"
      ],
      "metadata": {
        "id": "BiPz1reFKbLM"
      },
      "id": "BiPz1reFKbLM"
    },
    {
      "cell_type": "markdown",
      "source": [
        "Importing all necessary Packages and Libraries"
      ],
      "metadata": {
        "id": "COJ5r2hULLZL"
      },
      "id": "COJ5r2hULLZL"
    },
    {
      "cell_type": "code",
      "execution_count": 1,
      "id": "d7135bc9",
      "metadata": {
        "id": "d7135bc9"
      },
      "outputs": [],
      "source": [
        "import tensorflow as tensorfloww\n",
        "import keras\n",
        "from keras.models import Sequential\n",
        "from keras.layers import Dense\n",
        "from tensorflow.keras.optimizers import SGD,Adam\n",
        "import pandas as pd\n",
        "import numpy as np\n",
        "import seaborn as sns\n",
        "sns.set(color_codes = True)\n",
        "from sklearn.model_selection import train_test_split\n",
        "from sklearn.preprocessing import StandardScaler\n",
        "from tensorflow.keras.callbacks import EarlyStopping\n",
        "from sklearn import preprocessing\n",
        "import matplotlib.pyplot as plt\n",
        "from google.colab import files\n",
        "import io\n",
        "from warnings import filterwarnings\n",
        "filterwarnings(\"ignore\")"
      ]
    },
    {
      "cell_type": "markdown",
      "source": [
        "Loading the Data-set"
      ],
      "metadata": {
        "id": "6xloLWSZLV0N"
      },
      "id": "6xloLWSZLV0N"
    },
    {
      "cell_type": "code",
      "execution_count": 2,
      "id": "b4e97dfc",
      "metadata": {
        "colab": {
          "resources": {
            "http://localhost:8080/nbextensions/google.colab/files.js": {
              "data": "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",
              "ok": true,
              "headers": [
                [
                  "content-type",
                  "application/javascript"
                ]
              ],
              "status": 200,
              "status_text": ""
            }
          },
          "base_uri": "https://localhost:8080/",
          "height": 73
        },
        "id": "b4e97dfc",
        "outputId": "4d7507bf-ff04-405b-da31-5d6cf9dc97ca"
      },
      "outputs": [
        {
          "output_type": "display_data",
          "data": {
            "text/plain": [
              "<IPython.core.display.HTML object>"
            ],
            "text/html": [
              "\n",
              "     <input type=\"file\" id=\"files-c588f08f-ceea-43fd-b255-2111cd31b9fc\" name=\"files[]\" multiple disabled\n",
              "        style=\"border:none\" />\n",
              "     <output id=\"result-c588f08f-ceea-43fd-b255-2111cd31b9fc\">\n",
              "      Upload widget is only available when the cell has been executed in the\n",
              "      current browser session. Please rerun this cell to enable.\n",
              "      </output>\n",
              "      <script src=\"/nbextensions/google.colab/files.js\"></script> "
            ]
          },
          "metadata": {}
        },
        {
          "output_type": "stream",
          "name": "stdout",
          "text": [
            "Saving IPL Matches 2008-2020.csv to IPL Matches 2008-2020.csv\n"
          ]
        }
      ],
      "source": [
        "uploaded = files.upload()"
      ]
    },
    {
      "cell_type": "markdown",
      "source": [
        "Converting the file to .csv format"
      ],
      "metadata": {
        "id": "iLXYIz5VLn8z"
      },
      "id": "iLXYIz5VLn8z"
    },
    {
      "cell_type": "code",
      "source": [
        "df = pd.read_csv(io.BytesIO(uploaded['IPL Matches 2008-2020.csv']))"
      ],
      "metadata": {
        "id": "ws1z3HILRLtA"
      },
      "id": "ws1z3HILRLtA",
      "execution_count": 3,
      "outputs": []
    },
    {
      "cell_type": "markdown",
      "source": [
        "Viewing the Data's properties"
      ],
      "metadata": {
        "id": "Hfo5KgvSLwln"
      },
      "id": "Hfo5KgvSLwln"
    },
    {
      "cell_type": "code",
      "execution_count": 4,
      "id": "3f21b14a",
      "metadata": {
        "colab": {
          "base_uri": "https://localhost:8080/"
        },
        "id": "3f21b14a",
        "outputId": "8f3af7e0-5c12-4a93-cce7-e704baa4b09a"
      },
      "outputs": [
        {
          "output_type": "stream",
          "name": "stdout",
          "text": [
            "(816, 17)\n"
          ]
        }
      ],
      "source": [
        "print(df.shape)"
      ]
    },
    {
      "cell_type": "code",
      "execution_count": 5,
      "id": "861838a4",
      "metadata": {
        "colab": {
          "base_uri": "https://localhost:8080/"
        },
        "id": "861838a4",
        "outputId": "646db1e6-6206-4ce6-b928-4a74534272eb"
      },
      "outputs": [
        {
          "output_type": "stream",
          "name": "stdout",
          "text": [
            "id                   int64\n",
            "city                object\n",
            "date                object\n",
            "player_of_match     object\n",
            "venue               object\n",
            "neutral_venue        int64\n",
            "team1               object\n",
            "team2               object\n",
            "toss_winner         object\n",
            "toss_decision       object\n",
            "winner              object\n",
            "result              object\n",
            "result_margin      float64\n",
            "eliminator          object\n",
            "method              object\n",
            "umpire1             object\n",
            "umpire2             object\n",
            "dtype: object\n"
          ]
        }
      ],
      "source": [
        "print(df.dtypes)"
      ]
    },
    {
      "cell_type": "markdown",
      "source": [
        "Viewing the first and last **5** sanples from Dataset"
      ],
      "metadata": {
        "id": "uwrpGASIL79f"
      },
      "id": "uwrpGASIL79f"
    },
    {
      "cell_type": "code",
      "execution_count": 6,
      "id": "f128b2f6",
      "metadata": {
        "colab": {
          "base_uri": "https://localhost:8080/",
          "height": 461
        },
        "id": "f128b2f6",
        "outputId": "e69221b8-7359-4368-d1a1-9b4478fe50a7"
      },
      "outputs": [
        {
          "output_type": "execute_result",
          "data": {
            "text/plain": [
              "       id        city        date player_of_match  \\\n",
              "0  335982   Bangalore  2008-04-18     BB McCullum   \n",
              "1  335983  Chandigarh  2008-04-19      MEK Hussey   \n",
              "2  335984       Delhi  2008-04-19     MF Maharoof   \n",
              "3  335985      Mumbai  2008-04-20      MV Boucher   \n",
              "4  335986     Kolkata  2008-04-20       DJ Hussey   \n",
              "\n",
              "                                        venue  neutral_venue  \\\n",
              "0                       M Chinnaswamy Stadium              0   \n",
              "1  Punjab Cricket Association Stadium, Mohali              0   \n",
              "2                            Feroz Shah Kotla              0   \n",
              "3                            Wankhede Stadium              0   \n",
              "4                                Eden Gardens              0   \n",
              "\n",
              "                         team1                        team2  \\\n",
              "0  Royal Challengers Bangalore        Kolkata Knight Riders   \n",
              "1              Kings XI Punjab          Chennai Super Kings   \n",
              "2             Delhi Daredevils             Rajasthan Royals   \n",
              "3               Mumbai Indians  Royal Challengers Bangalore   \n",
              "4        Kolkata Knight Riders              Deccan Chargers   \n",
              "\n",
              "                   toss_winner toss_decision                       winner  \\\n",
              "0  Royal Challengers Bangalore         field        Kolkata Knight Riders   \n",
              "1          Chennai Super Kings           bat          Chennai Super Kings   \n",
              "2             Rajasthan Royals           bat             Delhi Daredevils   \n",
              "3               Mumbai Indians           bat  Royal Challengers Bangalore   \n",
              "4              Deccan Chargers           bat        Kolkata Knight Riders   \n",
              "\n",
              "    result  result_margin eliminator method    umpire1         umpire2  \n",
              "0     runs          140.0          N    NaN  Asad Rauf     RE Koertzen  \n",
              "1     runs           33.0          N    NaN  MR Benson      SL Shastri  \n",
              "2  wickets            9.0          N    NaN  Aleem Dar  GA Pratapkumar  \n",
              "3  wickets            5.0          N    NaN   SJ Davis       DJ Harper  \n",
              "4  wickets            5.0          N    NaN  BF Bowden     K Hariharan  "
            ],
            "text/html": [
              "\n",
              "  <div id=\"df-945e5134-5974-4cf5-8445-e78f4aced748\">\n",
              "    <div class=\"colab-df-container\">\n",
              "      <div>\n",
              "<style scoped>\n",
              "    .dataframe tbody tr th:only-of-type {\n",
              "        vertical-align: middle;\n",
              "    }\n",
              "\n",
              "    .dataframe tbody tr th {\n",
              "        vertical-align: top;\n",
              "    }\n",
              "\n",
              "    .dataframe thead th {\n",
              "        text-align: right;\n",
              "    }\n",
              "</style>\n",
              "<table border=\"1\" class=\"dataframe\">\n",
              "  <thead>\n",
              "    <tr style=\"text-align: right;\">\n",
              "      <th></th>\n",
              "      <th>id</th>\n",
              "      <th>city</th>\n",
              "      <th>date</th>\n",
              "      <th>player_of_match</th>\n",
              "      <th>venue</th>\n",
              "      <th>neutral_venue</th>\n",
              "      <th>team1</th>\n",
              "      <th>team2</th>\n",
              "      <th>toss_winner</th>\n",
              "      <th>toss_decision</th>\n",
              "      <th>winner</th>\n",
              "      <th>result</th>\n",
              "      <th>result_margin</th>\n",
              "      <th>eliminator</th>\n",
              "      <th>method</th>\n",
              "      <th>umpire1</th>\n",
              "      <th>umpire2</th>\n",
              "    </tr>\n",
              "  </thead>\n",
              "  <tbody>\n",
              "    <tr>\n",
              "      <th>0</th>\n",
              "      <td>335982</td>\n",
              "      <td>Bangalore</td>\n",
              "      <td>2008-04-18</td>\n",
              "      <td>BB McCullum</td>\n",
              "      <td>M Chinnaswamy Stadium</td>\n",
              "      <td>0</td>\n",
              "      <td>Royal Challengers Bangalore</td>\n",
              "      <td>Kolkata Knight Riders</td>\n",
              "      <td>Royal Challengers Bangalore</td>\n",
              "      <td>field</td>\n",
              "      <td>Kolkata Knight Riders</td>\n",
              "      <td>runs</td>\n",
              "      <td>140.0</td>\n",
              "      <td>N</td>\n",
              "      <td>NaN</td>\n",
              "      <td>Asad Rauf</td>\n",
              "      <td>RE Koertzen</td>\n",
              "    </tr>\n",
              "    <tr>\n",
              "      <th>1</th>\n",
              "      <td>335983</td>\n",
              "      <td>Chandigarh</td>\n",
              "      <td>2008-04-19</td>\n",
              "      <td>MEK Hussey</td>\n",
              "      <td>Punjab Cricket Association Stadium, Mohali</td>\n",
              "      <td>0</td>\n",
              "      <td>Kings XI Punjab</td>\n",
              "      <td>Chennai Super Kings</td>\n",
              "      <td>Chennai Super Kings</td>\n",
              "      <td>bat</td>\n",
              "      <td>Chennai Super Kings</td>\n",
              "      <td>runs</td>\n",
              "      <td>33.0</td>\n",
              "      <td>N</td>\n",
              "      <td>NaN</td>\n",
              "      <td>MR Benson</td>\n",
              "      <td>SL Shastri</td>\n",
              "    </tr>\n",
              "    <tr>\n",
              "      <th>2</th>\n",
              "      <td>335984</td>\n",
              "      <td>Delhi</td>\n",
              "      <td>2008-04-19</td>\n",
              "      <td>MF Maharoof</td>\n",
              "      <td>Feroz Shah Kotla</td>\n",
              "      <td>0</td>\n",
              "      <td>Delhi Daredevils</td>\n",
              "      <td>Rajasthan Royals</td>\n",
              "      <td>Rajasthan Royals</td>\n",
              "      <td>bat</td>\n",
              "      <td>Delhi Daredevils</td>\n",
              "      <td>wickets</td>\n",
              "      <td>9.0</td>\n",
              "      <td>N</td>\n",
              "      <td>NaN</td>\n",
              "      <td>Aleem Dar</td>\n",
              "      <td>GA Pratapkumar</td>\n",
              "    </tr>\n",
              "    <tr>\n",
              "      <th>3</th>\n",
              "      <td>335985</td>\n",
              "      <td>Mumbai</td>\n",
              "      <td>2008-04-20</td>\n",
              "      <td>MV Boucher</td>\n",
              "      <td>Wankhede Stadium</td>\n",
              "      <td>0</td>\n",
              "      <td>Mumbai Indians</td>\n",
              "      <td>Royal Challengers Bangalore</td>\n",
              "      <td>Mumbai Indians</td>\n",
              "      <td>bat</td>\n",
              "      <td>Royal Challengers Bangalore</td>\n",
              "      <td>wickets</td>\n",
              "      <td>5.0</td>\n",
              "      <td>N</td>\n",
              "      <td>NaN</td>\n",
              "      <td>SJ Davis</td>\n",
              "      <td>DJ Harper</td>\n",
              "    </tr>\n",
              "    <tr>\n",
              "      <th>4</th>\n",
              "      <td>335986</td>\n",
              "      <td>Kolkata</td>\n",
              "      <td>2008-04-20</td>\n",
              "      <td>DJ Hussey</td>\n",
              "      <td>Eden Gardens</td>\n",
              "      <td>0</td>\n",
              "      <td>Kolkata Knight Riders</td>\n",
              "      <td>Deccan Chargers</td>\n",
              "      <td>Deccan Chargers</td>\n",
              "      <td>bat</td>\n",
              "      <td>Kolkata Knight Riders</td>\n",
              "      <td>wickets</td>\n",
              "      <td>5.0</td>\n",
              "      <td>N</td>\n",
              "      <td>NaN</td>\n",
              "      <td>BF Bowden</td>\n",
              "      <td>K Hariharan</td>\n",
              "    </tr>\n",
              "  </tbody>\n",
              "</table>\n",
              "</div>\n",
              "      <button class=\"colab-df-convert\" onclick=\"convertToInteractive('df-945e5134-5974-4cf5-8445-e78f4aced748')\"\n",
              "              title=\"Convert this dataframe to an interactive table.\"\n",
              "              style=\"display:none;\">\n",
              "        \n",
              "  <svg xmlns=\"http://www.w3.org/2000/svg\" height=\"24px\"viewBox=\"0 0 24 24\"\n",
              "       width=\"24px\">\n",
              "    <path d=\"M0 0h24v24H0V0z\" fill=\"none\"/>\n",
              "    <path d=\"M18.56 5.44l.94 2.06.94-2.06 2.06-.94-2.06-.94-.94-2.06-.94 2.06-2.06.94zm-11 1L8.5 8.5l.94-2.06 2.06-.94-2.06-.94L8.5 2.5l-.94 2.06-2.06.94zm10 10l.94 2.06.94-2.06 2.06-.94-2.06-.94-.94-2.06-.94 2.06-2.06.94z\"/><path d=\"M17.41 7.96l-1.37-1.37c-.4-.4-.92-.59-1.43-.59-.52 0-1.04.2-1.43.59L10.3 9.45l-7.72 7.72c-.78.78-.78 2.05 0 2.83L4 21.41c.39.39.9.59 1.41.59.51 0 1.02-.2 1.41-.59l7.78-7.78 2.81-2.81c.8-.78.8-2.07 0-2.86zM5.41 20L4 18.59l7.72-7.72 1.47 1.35L5.41 20z\"/>\n",
              "  </svg>\n",
              "      </button>\n",
              "      \n",
              "  <style>\n",
              "    .colab-df-container {\n",
              "      display:flex;\n",
              "      flex-wrap:wrap;\n",
              "      gap: 12px;\n",
              "    }\n",
              "\n",
              "    .colab-df-convert {\n",
              "      background-color: #E8F0FE;\n",
              "      border: none;\n",
              "      border-radius: 50%;\n",
              "      cursor: pointer;\n",
              "      display: none;\n",
              "      fill: #1967D2;\n",
              "      height: 32px;\n",
              "      padding: 0 0 0 0;\n",
              "      width: 32px;\n",
              "    }\n",
              "\n",
              "    .colab-df-convert:hover {\n",
              "      background-color: #E2EBFA;\n",
              "      box-shadow: 0px 1px 2px rgba(60, 64, 67, 0.3), 0px 1px 3px 1px rgba(60, 64, 67, 0.15);\n",
              "      fill: #174EA6;\n",
              "    }\n",
              "\n",
              "    [theme=dark] .colab-df-convert {\n",
              "      background-color: #3B4455;\n",
              "      fill: #D2E3FC;\n",
              "    }\n",
              "\n",
              "    [theme=dark] .colab-df-convert:hover {\n",
              "      background-color: #434B5C;\n",
              "      box-shadow: 0px 1px 3px 1px rgba(0, 0, 0, 0.15);\n",
              "      filter: drop-shadow(0px 1px 2px rgba(0, 0, 0, 0.3));\n",
              "      fill: #FFFFFF;\n",
              "    }\n",
              "  </style>\n",
              "\n",
              "      <script>\n",
              "        const buttonEl =\n",
              "          document.querySelector('#df-945e5134-5974-4cf5-8445-e78f4aced748 button.colab-df-convert');\n",
              "        buttonEl.style.display =\n",
              "          google.colab.kernel.accessAllowed ? 'block' : 'none';\n",
              "\n",
              "        async function convertToInteractive(key) {\n",
              "          const element = document.querySelector('#df-945e5134-5974-4cf5-8445-e78f4aced748');\n",
              "          const dataTable =\n",
              "            await google.colab.kernel.invokeFunction('convertToInteractive',\n",
              "                                                     [key], {});\n",
              "          if (!dataTable) return;\n",
              "\n",
              "          const docLinkHtml = 'Like what you see? Visit the ' +\n",
              "            '<a target=\"_blank\" href=https://colab.research.google.com/notebooks/data_table.ipynb>data table notebook</a>'\n",
              "            + ' to learn more about interactive tables.';\n",
              "          element.innerHTML = '';\n",
              "          dataTable['output_type'] = 'display_data';\n",
              "          await google.colab.output.renderOutput(dataTable, element);\n",
              "          const docLink = document.createElement('div');\n",
              "          docLink.innerHTML = docLinkHtml;\n",
              "          element.appendChild(docLink);\n",
              "        }\n",
              "      </script>\n",
              "    </div>\n",
              "  </div>\n",
              "  "
            ]
          },
          "metadata": {},
          "execution_count": 6
        }
      ],
      "source": [
        "df.head()"
      ]
    },
    {
      "cell_type": "markdown",
      "source": [
        "Finding the **Pearson** co-relation coefficient"
      ],
      "metadata": {
        "id": "TIwm9GBUMNFs"
      },
      "id": "TIwm9GBUMNFs"
    },
    {
      "cell_type": "code",
      "source": [
        "print(df.corr(method = 'pearson'))"
      ],
      "metadata": {
        "colab": {
          "base_uri": "https://localhost:8080/"
        },
        "id": "Tgs6JrrDRrfi",
        "outputId": "886d6a60-7c65-4032-da3d-7a3ef7f33969"
      },
      "id": "Tgs6JrrDRrfi",
      "execution_count": 7,
      "outputs": [
        {
          "output_type": "stream",
          "name": "stdout",
          "text": [
            "                     id  neutral_venue  result_margin\n",
            "id             1.000000      -0.292042      -0.010501\n",
            "neutral_venue -0.292042       1.000000      -0.006445\n",
            "result_margin -0.010501      -0.006445       1.000000\n"
          ]
        }
      ]
    },
    {
      "cell_type": "markdown",
      "source": [
        "**Data Preparation and Data Cleaning :** "
      ],
      "metadata": {
        "id": "1f9_J_IEMYBm"
      },
      "id": "1f9_J_IEMYBm"
    },
    {
      "cell_type": "code",
      "source": [
        "df.loc[(df.toss_decision == 'bat'),'toss_decision'] = 1\n",
        "df.loc[(df.toss_decision == 'field'),'toss_decision'] = 0"
      ],
      "metadata": {
        "id": "AzBUWo2-TNoZ"
      },
      "id": "AzBUWo2-TNoZ",
      "execution_count": 8,
      "outputs": []
    },
    {
      "cell_type": "code",
      "source": [
        "print(df['toss_decision'])\n",
        "df['toss_decision'] = df['toss_decision'].astype(int)"
      ],
      "metadata": {
        "colab": {
          "base_uri": "https://localhost:8080/"
        },
        "id": "LBYbNZYnUEHx",
        "outputId": "6def4e13-7f2c-4341-9f3b-e66c83afff02"
      },
      "id": "LBYbNZYnUEHx",
      "execution_count": 9,
      "outputs": [
        {
          "output_type": "stream",
          "name": "stdout",
          "text": [
            "0      0\n",
            "1      1\n",
            "2      1\n",
            "3      1\n",
            "4      1\n",
            "      ..\n",
            "811    0\n",
            "812    0\n",
            "813    0\n",
            "814    1\n",
            "815    1\n",
            "Name: toss_decision, Length: 816, dtype: object\n"
          ]
        }
      ]
    },
    {
      "cell_type": "code",
      "source": [
        "df.loc[(df.result == 'runs'),'result'] = 1\n",
        "df.loc[(df.result == 'wickets'),'result'] = 0\n",
        "df.loc[(df.result == 'tie'),'result'] = 1\n",
        "df.loc[(df.eliminator == 'N'),'eliminator'] = 0\n",
        "df.loc[(df.eliminator == 'Y'),'eliminator'] = 1"
      ],
      "metadata": {
        "id": "178-D8kKUvYA"
      },
      "id": "178-D8kKUvYA",
      "execution_count": 10,
      "outputs": []
    },
    {
      "cell_type": "code",
      "source": [
        "print(df['result'])"
      ],
      "metadata": {
        "colab": {
          "base_uri": "https://localhost:8080/"
        },
        "id": "Wc_1HKodWTRn",
        "outputId": "61ca686a-4219-47ec-b8ea-0bb765156fec"
      },
      "id": "Wc_1HKodWTRn",
      "execution_count": 11,
      "outputs": [
        {
          "output_type": "stream",
          "name": "stdout",
          "text": [
            "0      1\n",
            "1      1\n",
            "2      0\n",
            "3      0\n",
            "4      0\n",
            "      ..\n",
            "811    1\n",
            "812    1\n",
            "813    0\n",
            "814    1\n",
            "815    0\n",
            "Name: result, Length: 816, dtype: object\n"
          ]
        }
      ]
    },
    {
      "cell_type": "code",
      "source": [
        "print(df['eliminator'])"
      ],
      "metadata": {
        "colab": {
          "base_uri": "https://localhost:8080/"
        },
        "id": "dnvtbCR_Ws2N",
        "outputId": "d3c869ce-77d9-4df7-e798-a221a214f9d2"
      },
      "id": "dnvtbCR_Ws2N",
      "execution_count": 12,
      "outputs": [
        {
          "output_type": "stream",
          "name": "stdout",
          "text": [
            "0      0\n",
            "1      0\n",
            "2      0\n",
            "3      0\n",
            "4      0\n",
            "      ..\n",
            "811    1\n",
            "812    0\n",
            "813    0\n",
            "814    0\n",
            "815    0\n",
            "Name: eliminator, Length: 816, dtype: object\n"
          ]
        }
      ]
    },
    {
      "cell_type": "code",
      "source": [
        "df = df.drop(labels = ['method'],axis=1)"
      ],
      "metadata": {
        "id": "KGnokkXCYsBX"
      },
      "id": "KGnokkXCYsBX",
      "execution_count": 13,
      "outputs": []
    },
    {
      "cell_type": "code",
      "source": [
        "df = df.dropna()"
      ],
      "metadata": {
        "id": "zHn3IWdtY5sm"
      },
      "id": "zHn3IWdtY5sm",
      "execution_count": 14,
      "outputs": []
    },
    {
      "cell_type": "code",
      "source": [
        "print(df.shape)"
      ],
      "metadata": {
        "colab": {
          "base_uri": "https://localhost:8080/"
        },
        "id": "2ms3WW-WY80P",
        "outputId": "2a75cdaf-0f90-41d3-bd9b-4a43fb7d78b8"
      },
      "id": "2ms3WW-WY80P",
      "execution_count": 15,
      "outputs": [
        {
          "output_type": "stream",
          "name": "stdout",
          "text": [
            "(786, 16)\n"
          ]
        }
      ]
    },
    {
      "cell_type": "code",
      "source": [
        "df['eliminator']  = df['eliminator'].astype(int)\n",
        "df['result'] = df['result'].astype(int)"
      ],
      "metadata": {
        "id": "MclxubRcW1aH"
      },
      "id": "MclxubRcW1aH",
      "execution_count": 16,
      "outputs": []
    },
    {
      "cell_type": "code",
      "source": [
        "print(df['team1'].unique())\n",
        "print(df['team2'].unique())"
      ],
      "metadata": {
        "colab": {
          "base_uri": "https://localhost:8080/"
        },
        "id": "amVPACaJaD2v",
        "outputId": "a7af866d-eaa6-4012-e5a6-891552266ce4"
      },
      "id": "amVPACaJaD2v",
      "execution_count": 17,
      "outputs": [
        {
          "output_type": "stream",
          "name": "stdout",
          "text": [
            "['Royal Challengers Bangalore' 'Kings XI Punjab' 'Delhi Daredevils'\n",
            " 'Mumbai Indians' 'Kolkata Knight Riders' 'Rajasthan Royals'\n",
            " 'Deccan Chargers' 'Chennai Super Kings' 'Kochi Tuskers Kerala'\n",
            " 'Pune Warriors' 'Sunrisers Hyderabad' 'Gujarat Lions'\n",
            " 'Rising Pune Supergiants' 'Rising Pune Supergiant' 'Delhi Capitals']\n",
            "['Kolkata Knight Riders' 'Chennai Super Kings' 'Rajasthan Royals'\n",
            " 'Royal Challengers Bangalore' 'Deccan Chargers' 'Kings XI Punjab'\n",
            " 'Delhi Daredevils' 'Mumbai Indians' 'Kochi Tuskers Kerala'\n",
            " 'Pune Warriors' 'Sunrisers Hyderabad' 'Rising Pune Supergiants'\n",
            " 'Gujarat Lions' 'Rising Pune Supergiant' 'Delhi Capitals']\n"
          ]
        }
      ]
    },
    {
      "cell_type": "code",
      "source": [
        "df.loc[(df.team1 == 'Royal Challengers Bangalore'),'team1'] = 1\n",
        "df.loc[(df.team2 == 'Royal Challengers Bangalore'),'team2'] = 1\n",
        "df.loc[(df.winner == 'Royal Challengers Bangalore'),'winner'] = 1\n",
        "df.loc[(df.toss_winner == 'Royal Challengers Bangalore'),'toss_winner'] = 1\n",
        "df.loc[(df.team1 == 'Kings XI Punjab'),'team1'] = 2\n",
        "df.loc[(df.team2 == 'Kings XI Punjab'),'team2'] = 2\n",
        "df.loc[(df.winner == 'Kings XI Punjab'),'winner'] = 2\n",
        "df.loc[(df.toss_winner == 'Kings XI Punjab'),'toss_winner'] = 2\n",
        "df.loc[(df.team1 == 'Delhi Daredevils'),'team1'] = 3\n",
        "df.loc[(df.team2 == 'Delhi Daredevils'),'team2'] = 3\n",
        "df.loc[(df.winner == 'Delhi Daredevils'),'winner'] = 3\n",
        "df.loc[(df.toss_winner == 'Delhi Daredevils'),'toss_winner'] = 3\n",
        "df.loc[(df.team1 == 'Mumbai Indians'),'team1'] = 4\n",
        "df.loc[(df.team2 == 'Mumbai Indians'),'team2'] = 4\n",
        "df.loc[(df.winner == 'Mumbai Indians'),'winner'] = 4\n",
        "df.loc[(df.toss_winner == 'Mumbai Indians'),'toss_winner'] = 4\n",
        "df.loc[(df.team1 == 'Kolkata Knight Riders'),'team1'] = 5\n",
        "df.loc[(df.team2 == 'Kolkata Knight Riders'),'team2'] = 5\n",
        "df.loc[(df.winner == 'Kolkata Knight Riders'),'winner'] = 5\n",
        "df.loc[(df.toss_winner == 'Kolkata Knight Riders'),'toss_winner'] = 5\n",
        "df.loc[(df.team1 == 'Rajasthan Royals'),'team1'] = 6\n",
        "df.loc[(df.team2 == 'Rajasthan Royals'),'team2'] = 6\n",
        "df.loc[(df.winner == 'Rajasthan Royals'),'winner'] = 6\n",
        "df.loc[(df.toss_winner == 'Rajasthan Royals'),'toss_winner'] = 6\n",
        "df.loc[(df.team1 == 'Deccan Chargers'),'team1'] = 7\n",
        "df.loc[(df.team2 == 'Deccan Chargers'),'team2'] = 7\n",
        "df.loc[(df.winner == 'Deccan Chargers'),'winner'] = 7\n",
        "df.loc[(df.toss_winner == 'Deccan Chargers'),'toss_winner'] = 7\n",
        "df.loc[(df.team1 == 'Chennai Super Kings'),'team1'] = 8\n",
        "df.loc[(df.team2 == 'Chennai Super Kings'),'team2'] = 8\n",
        "df.loc[(df.winner == 'Chennai Super Kings'),'winner'] = 8\n",
        "df.loc[(df.toss_winner == 'Chennai Super Kings'),'toss_winner'] = 8\n",
        "df.loc[(df.team1 == 'Kochi Tuskers Kerala'),'team1'] = 9\n",
        "df.loc[(df.team2 == 'Kochi Tuskers Kerala'),'team2'] = 9\n",
        "df.loc[(df.winner == 'Kochi Tuskers Kerala'),'winner'] = 9\n",
        "df.loc[(df.toss_winner == 'Kochi Tuskers Kerala'),'toss_winner'] = 9\n",
        "df.loc[(df.team1 == 'Pune Warriors'),'team1'] = 10\n",
        "df.loc[(df.team2 == 'Pune Warriors'),'team2'] = 10\n",
        "df.loc[(df.winner == 'Pune Warriors'),'winner'] = 10\n",
        "df.loc[(df.toss_winner == 'Pune Warriors'),'toss_winner'] = 10\n",
        "df.loc[(df.team1 == 'Sunrisers Hyderabad'),'team1'] = 11\n",
        "df.loc[(df.team2 == 'Sunrisers Hyderabad'),'team2'] = 11\n",
        "df.loc[(df.winner == 'Sunrisers Hyderabad'),'winner'] = 11\n",
        "df.loc[(df.toss_winner == 'Sunrisers Hyderabad'),'toss_winner'] = 11\n",
        "df.loc[(df.team1 == 'Gujarat Lions'),'team1'] = 12\n",
        "df.loc[(df.team2 == 'Gujarat Lions'),'team2'] = 12\n",
        "df.loc[(df.winner == 'Gujarat Lions'),'winner'] = 12\n",
        "df.loc[(df.toss_winner == 'Gujarat Lions'),'toss_winner'] = 12\n",
        "df.loc[(df.team1 == 'Rising Pune Supergiants'),'team1'] = 13\n",
        "df.loc[(df.team2 == 'Rising Pune Supergiants'),'team2'] = 13\n",
        "df.loc[(df.winner == 'Rising Pune Supergiants'),'winner'] = 13\n",
        "df.loc[(df.toss_winner == 'Rising Pune Supergiants'),'toss_winner'] = 13\n",
        "df.loc[(df.team1 == 'Rising Pune Supergiant'),'team1'] = 13\n",
        "df.loc[(df.team2 == 'Rising Pune Supergiant'),'team2'] = 13\n",
        "df.loc[(df.winner == 'Rising Pune Supergiant'),'winner'] = 13\n",
        "df.loc[(df.toss_winner == 'Rising Pune Supergiant'),'toss_winner'] = 13\n",
        "df.loc[(df.team1 == 'Delhi Capitals'),'team1'] = 3\n",
        "df.loc[(df.team2 == 'Delhi Capitals'),'team2'] = 3\n",
        "df.loc[(df.winner == 'Delhi Capitals'),'winner'] = 3\n",
        "df.loc[(df.toss_winner == 'Delhi Capitals'),'toss_winner'] = 3"
      ],
      "metadata": {
        "id": "8TKOiQnaaT8P"
      },
      "id": "8TKOiQnaaT8P",
      "execution_count": 18,
      "outputs": []
    },
    {
      "cell_type": "code",
      "source": [
        "df['team1']  = df['team1'].astype(int)\n",
        "df['team2']  = df['team2'].astype(int)\n",
        "df['winner']  = df['winner'].astype(int)\n",
        "df['toss_winner']  = df['toss_winner'].astype(int)"
      ],
      "metadata": {
        "id": "P1i-B7MbcWiI"
      },
      "id": "P1i-B7MbcWiI",
      "execution_count": 19,
      "outputs": []
    },
    {
      "cell_type": "code",
      "source": [
        "print(df.dtypes)"
      ],
      "metadata": {
        "colab": {
          "base_uri": "https://localhost:8080/"
        },
        "id": "lmX7_rWjeb8H",
        "outputId": "60cad28b-82d9-4b6c-b4d7-3e69b2e86b0b"
      },
      "id": "lmX7_rWjeb8H",
      "execution_count": 20,
      "outputs": [
        {
          "output_type": "stream",
          "name": "stdout",
          "text": [
            "id                   int64\n",
            "city                object\n",
            "date                object\n",
            "player_of_match     object\n",
            "venue               object\n",
            "neutral_venue        int64\n",
            "team1                int64\n",
            "team2                int64\n",
            "toss_winner          int64\n",
            "toss_decision        int64\n",
            "winner               int64\n",
            "result               int64\n",
            "result_margin      float64\n",
            "eliminator           int64\n",
            "umpire1             object\n",
            "umpire2             object\n",
            "dtype: object\n"
          ]
        }
      ]
    },
    {
      "cell_type": "code",
      "execution_count": 21,
      "id": "61d6c3ed",
      "metadata": {
        "id": "61d6c3ed"
      },
      "outputs": [],
      "source": [
        "df = df.drop(labels = ['id','date','city','player_of_match','venue','umpire1','umpire2'],axis=1);"
      ]
    },
    {
      "cell_type": "code",
      "source": [
        "print(df.dtypes)"
      ],
      "metadata": {
        "colab": {
          "base_uri": "https://localhost:8080/"
        },
        "id": "DyZLyq7gjphH",
        "outputId": "4f65f66d-e56f-4f6f-8293-f8289985375a"
      },
      "id": "DyZLyq7gjphH",
      "execution_count": 22,
      "outputs": [
        {
          "output_type": "stream",
          "name": "stdout",
          "text": [
            "neutral_venue      int64\n",
            "team1              int64\n",
            "team2              int64\n",
            "toss_winner        int64\n",
            "toss_decision      int64\n",
            "winner             int64\n",
            "result             int64\n",
            "result_margin    float64\n",
            "eliminator         int64\n",
            "dtype: object\n"
          ]
        }
      ]
    },
    {
      "cell_type": "code",
      "source": [
        "df['result_margin'] = df['result_margin'].astype(int)"
      ],
      "metadata": {
        "id": "bZlxU0PS1Fb-"
      },
      "id": "bZlxU0PS1Fb-",
      "execution_count": 23,
      "outputs": []
    },
    {
      "cell_type": "markdown",
      "source": [
        "**Scatter Plot of Toss_winner vs Match_winner :**\n",
        "Gives the Details that how the outcome of Toss affects the outcome of the Match."
      ],
      "metadata": {
        "id": "2I6DaBmNM-8t"
      },
      "id": "2I6DaBmNM-8t"
    },
    {
      "cell_type": "code",
      "source": [
        "graph = df.plot(kind='scatter', x='toss_winner', y='winner', color = 'darkgreen');\n",
        "graph.set_xlabel(\"Toss_Winner\");\n",
        "graph.set_ylabel(\"Match_Winner\");\n",
        "#print(graph);"
      ],
      "metadata": {
        "colab": {
          "base_uri": "https://localhost:8080/",
          "height": 285
        },
        "id": "41SPC2YuXykZ",
        "outputId": "c2fe8bb3-d237-4c1d-faa9-e3e838c1449f"
      },
      "id": "41SPC2YuXykZ",
      "execution_count": 24,
      "outputs": [
        {
          "output_type": "display_data",
          "data": {
            "text/plain": [
              "<Figure size 432x288 with 1 Axes>"
            ],
            "image/png": "[encoded data removed]"
          },
          "metadata": {
            "needs_background": "light"
          }
        }
      ]
    },
    {
      "cell_type": "markdown",
      "source": [
        "**Scatter Plot of a Unique Team vs Match_winner :**\n",
        "Gives the Details of Match's outcome When 2 Unique teams faced each other."
      ],
      "metadata": {
        "id": "WQ_TAIizNqRB"
      },
      "id": "WQ_TAIizNqRB"
    },
    {
      "cell_type": "code",
      "source": [
        "graph_2 = df.plot(kind='scatter', x='team1', y='winner', color = 'blue');\n",
        "graph_2.set_xlabel(\"Team_1\");\n",
        "graph_2.set_ylabel(\"Match_Winner\");\n",
        "#print(graph_2)"
      ],
      "metadata": {
        "colab": {
          "base_uri": "https://localhost:8080/",
          "height": 285
        },
        "id": "pKnnSMh_atxA",
        "outputId": "c1db4d25-565a-4572-8ba8-649fee559079"
      },
      "id": "pKnnSMh_atxA",
      "execution_count": 25,
      "outputs": [
        {
          "output_type": "display_data",
          "data": {
            "text/plain": [
              "<Figure size 432x288 with 1 Axes>"
            ],
            "image/png": "[encoded data removed]"
          },
          "metadata": {
            "needs_background": "light"
          }
        }
      ]
    },
    {
      "cell_type": "code",
      "source": [
        "plt.xticks(np.arange(0,14,1))\n",
        "plt.yticks(np.arange(0,14,1))\n",
        "sns.scatterplot(df[\"team1\"],df[\"winner\"],ci = False);"
      ],
      "metadata": {
        "colab": {
          "base_uri": "https://localhost:8080/",
          "height": 285
        },
        "id": "r1OXsH4zQ-V6",
        "outputId": "7830e0b5-1c16-4b9d-af75-ed10713f1b71"
      },
      "id": "r1OXsH4zQ-V6",
      "execution_count": 26,
      "outputs": [
        {
          "output_type": "display_data",
          "data": {
            "text/plain": [
              "<Figure size 432x288 with 1 Axes>"
            ],
            "image/png": "[encoded data removed]"
          },
          "metadata": {
            "needs_background": "light"
          }
        }
      ]
    },
    {
      "cell_type": "code",
      "source": [
        "df.info()"
      ],
      "metadata": {
        "colab": {
          "base_uri": "https://localhost:8080/"
        },
        "id": "cMDg8_GJyAFh",
        "outputId": "f6b75971-5417-4326-872f-d9cbbe4d58b4"
      },
      "id": "cMDg8_GJyAFh",
      "execution_count": 58,
      "outputs": [
        {
          "output_type": "stream",
          "name": "stdout",
          "text": [
            "<class 'pandas.core.frame.DataFrame'>\n",
            "Int64Index: 786 entries, 0 to 815\n",
            "Data columns (total 10 columns):\n",
            " #   Column             Non-Null Count  Dtype\n",
            "---  ------             --------------  -----\n",
            " 0   neutral_venue      786 non-null    int64\n",
            " 1   team1              786 non-null    int64\n",
            " 2   team2              786 non-null    int64\n",
            " 3   toss_winner        786 non-null    int64\n",
            " 4   toss_decision      786 non-null    int64\n",
            " 5   winner             786 non-null    int64\n",
            " 6   result             786 non-null    int64\n",
            " 7   result_margin      786 non-null    int64\n",
            " 8   eliminator         786 non-null    int64\n",
            " 9   Won Batting first  786 non-null    int64\n",
            "dtypes: int64(10)\n",
            "memory usage: 67.5 KB\n"
          ]
        }
      ]
    },
    {
      "cell_type": "code",
      "source": [
        "plt.figure(figsize = (10,10));\n",
        "sns.jointplot(kind='hex',x=df['toss_winner'],y=df['winner']);\n",
        "plt.xticks(np.arange(1,15,1));\n",
        "plt.yticks(np.arange(1,15,1));\n",
        "plt.show();"
      ],
      "metadata": {
        "colab": {
          "base_uri": "https://localhost:8080/",
          "height": 458
        },
        "id": "4gJo7fNV18ef",
        "outputId": "f98a54ff-ef43-4cda-f251-7ca974be9257"
      },
      "id": "4gJo7fNV18ef",
      "execution_count": 66,
      "outputs": [
        {
          "output_type": "display_data",
          "data": {
            "text/plain": [
              "<Figure size 720x720 with 0 Axes>"
            ]
          },
          "metadata": {}
        },
        {
          "output_type": "display_data",
          "data": {
            "text/plain": [
              "<Figure size 432x432 with 3 Axes>"
            ],
            "image/png": "[encoded data removed]"
          },
          "metadata": {
            "needs_background": "light"
          }
        }
      ]
    },
    {
      "cell_type": "code",
      "source": [
        "sns.jointplot(kind='kde',x=df['toss_winner'],y=df['winner']);\n",
        "plt.xticks(np.arange(1,15,1));\n",
        "plt.yticks(np.arange(1,15,1));\n",
        "plt.show();"
      ],
      "metadata": {
        "colab": {
          "base_uri": "https://localhost:8080/",
          "height": 441
        },
        "id": "3f8Gu34C43Rz",
        "outputId": "0a612b98-37c6-481b-dd0f-710b7895cd76"
      },
      "id": "3f8Gu34C43Rz",
      "execution_count": 67,
      "outputs": [
        {
          "output_type": "display_data",
          "data": {
            "text/plain": [
              "<Figure size 432x432 with 3 Axes>"
            ],
            "image/png": "[encoded data removed]"
          },
          "metadata": {
            "needs_background": "light"
          }
        }
      ]
    },
    {
      "cell_type": "code",
      "source": [
        "sns.boxplot(df['toss_winner'],showmeans=True);"
      ],
      "metadata": {
        "colab": {
          "base_uri": "https://localhost:8080/",
          "height": 285
        },
        "id": "nS-yKKOp1c9e",
        "outputId": "6918d081-3f17-4a49-f529-96e037806e70"
      },
      "id": "nS-yKKOp1c9e",
      "execution_count": 57,
      "outputs": [
        {
          "output_type": "display_data",
          "data": {
            "text/plain": [
              "<Figure size 432x288 with 1 Axes>"
            ],
            "image/png": "[encoded data removed]"
          },
          "metadata": {
            "needs_background": "light"
          }
        }
      ]
    },
    {
      "cell_type": "code",
      "source": [
        "  sns.lmplot(data = df,x=\"team1\",y=\"winner\");"
      ],
      "metadata": {
        "colab": {
          "base_uri": "https://localhost:8080/",
          "height": 369
        },
        "id": "-ovGI5wqTDAs",
        "outputId": "dbfea958-07ce-4bb5-bca6-0149e14ce88a"
      },
      "id": "-ovGI5wqTDAs",
      "execution_count": 69,
      "outputs": [
        {
          "output_type": "display_data",
          "data": {
            "text/plain": [
              "<Figure size 360x360 with 1 Axes>"
            ],
            "image/png": "[encoded data removed]"
          },
          "metadata": {
            "needs_background": "light"
          }
        }
      ]
    },
    {
      "cell_type": "code",
      "source": [
        "df.corr(method = 'pearson')"
      ],
      "metadata": {
        "colab": {
          "base_uri": "https://localhost:8080/",
          "height": 363
        },
        "id": "nxCQtO6hj_yW",
        "outputId": "1430b3a3-bd50-40a2-bff7-3a146f9ca426"
      },
      "id": "nxCQtO6hj_yW",
      "execution_count": 56,
      "outputs": [
        {
          "output_type": "execute_result",
          "data": {
            "text/plain": [
              "                   neutral_venue     team1     team2  toss_winner  \\\n",
              "neutral_venue           1.000000 -0.070207 -0.066427    -0.061277   \n",
              "team1                  -0.070207  1.000000 -0.108442     0.418542   \n",
              "team2                  -0.066427 -0.108442  1.000000     0.433966   \n",
              "toss_winner            -0.061277  0.418542  0.433966     1.000000   \n",
              "toss_decision           0.131670  0.098867 -0.027213     0.061339   \n",
              "winner                 -0.082217  0.483721  0.387133     0.422852   \n",
              "result                  0.015937 -0.002990 -0.043761    -0.037225   \n",
              "result_margin           0.007910 -0.052701 -0.054797    -0.054127   \n",
              "eliminator                   NaN       NaN       NaN          NaN   \n",
              "Won Batting first            NaN       NaN       NaN          NaN   \n",
              "\n",
              "                   toss_decision    winner    result  result_margin  \\\n",
              "neutral_venue           0.131670 -0.082217  0.015937       0.007910   \n",
              "team1                   0.098867  0.483721 -0.002990      -0.052701   \n",
              "team2                  -0.027213  0.387133 -0.043761      -0.054797   \n",
              "toss_winner             0.061339  0.422852 -0.037225      -0.054127   \n",
              "toss_decision           1.000000  0.019302  0.020218      -0.028201   \n",
              "winner                  0.019302  1.000000  0.002429      -0.025908   \n",
              "result                  0.020218  0.002429  1.000000       0.549009   \n",
              "result_margin          -0.028201 -0.025908  0.549009       1.000000   \n",
              "eliminator                   NaN       NaN       NaN            NaN   \n",
              "Won Batting first            NaN       NaN       NaN            NaN   \n",
              "\n",
              "                   eliminator  Won Batting first  \n",
              "neutral_venue             NaN                NaN  \n",
              "team1                     NaN                NaN  \n",
              "team2                     NaN                NaN  \n",
              "toss_winner               NaN                NaN  \n",
              "toss_decision             NaN                NaN  \n",
              "winner                    NaN                NaN  \n",
              "result                    NaN                NaN  \n",
              "result_margin             NaN                NaN  \n",
              "eliminator                NaN                NaN  \n",
              "Won Batting first         NaN                NaN  "
            ],
            "text/html": [
              "\n",
              "  <div id=\"df-f004f43f-c12d-4486-b6bb-05c03972859b\">\n",
              "    <div class=\"colab-df-container\">\n",
              "      <div>\n",
              "<style scoped>\n",
              "    .dataframe tbody tr th:only-of-type {\n",
              "        vertical-align: middle;\n",
              "    }\n",
              "\n",
              "    .dataframe tbody tr th {\n",
              "        vertical-align: top;\n",
              "    }\n",
              "\n",
              "    .dataframe thead th {\n",
              "        text-align: right;\n",
              "    }\n",
              "</style>\n",
              "<table border=\"1\" class=\"dataframe\">\n",
              "  <thead>\n",
              "    <tr style=\"text-align: right;\">\n",
              "      <th></th>\n",
              "      <th>neutral_venue</th>\n",
              "      <th>team1</th>\n",
              "      <th>team2</th>\n",
              "      <th>toss_winner</th>\n",
              "      <th>toss_decision</th>\n",
              "      <th>winner</th>\n",
              "      <th>result</th>\n",
              "      <th>result_margin</th>\n",
              "      <th>eliminator</th>\n",
              "      <th>Won Batting first</th>\n",
              "    </tr>\n",
              "  </thead>\n",
              "  <tbody>\n",
              "    <tr>\n",
              "      <th>neutral_venue</th>\n",
              "      <td>1.000000</td>\n",
              "      <td>-0.070207</td>\n",
              "      <td>-0.066427</td>\n",
              "      <td>-0.061277</td>\n",
              "      <td>0.131670</td>\n",
              "      <td>-0.082217</td>\n",
              "      <td>0.015937</td>\n",
              "      <td>0.007910</td>\n",
              "      <td>NaN</td>\n",
              "      <td>NaN</td>\n",
              "    </tr>\n",
              "    <tr>\n",
              "      <th>team1</th>\n",
              "      <td>-0.070207</td>\n",
              "      <td>1.000000</td>\n",
              "      <td>-0.108442</td>\n",
              "      <td>0.418542</td>\n",
              "      <td>0.098867</td>\n",
              "      <td>0.483721</td>\n",
              "      <td>-0.002990</td>\n",
              "      <td>-0.052701</td>\n",
              "      <td>NaN</td>\n",
              "      <td>NaN</td>\n",
              "    </tr>\n",
              "    <tr>\n",
              "      <th>team2</th>\n",
              "      <td>-0.066427</td>\n",
              "      <td>-0.108442</td>\n",
              "      <td>1.000000</td>\n",
              "      <td>0.433966</td>\n",
              "      <td>-0.027213</td>\n",
              "      <td>0.387133</td>\n",
              "      <td>-0.043761</td>\n",
              "      <td>-0.054797</td>\n",
              "      <td>NaN</td>\n",
              "      <td>NaN</td>\n",
              "    </tr>\n",
              "    <tr>\n",
              "      <th>toss_winner</th>\n",
              "      <td>-0.061277</td>\n",
              "      <td>0.418542</td>\n",
              "      <td>0.433966</td>\n",
              "      <td>1.000000</td>\n",
              "      <td>0.061339</td>\n",
              "      <td>0.422852</td>\n",
              "      <td>-0.037225</td>\n",
              "      <td>-0.054127</td>\n",
              "      <td>NaN</td>\n",
              "      <td>NaN</td>\n",
              "    </tr>\n",
              "    <tr>\n",
              "      <th>toss_decision</th>\n",
              "      <td>0.131670</td>\n",
              "      <td>0.098867</td>\n",
              "      <td>-0.027213</td>\n",
              "      <td>0.061339</td>\n",
              "      <td>1.000000</td>\n",
              "      <td>0.019302</td>\n",
              "      <td>0.020218</td>\n",
              "      <td>-0.028201</td>\n",
              "      <td>NaN</td>\n",
              "      <td>NaN</td>\n",
              "    </tr>\n",
              "    <tr>\n",
              "      <th>winner</th>\n",
              "      <td>-0.082217</td>\n",
              "      <td>0.483721</td>\n",
              "      <td>0.387133</td>\n",
              "      <td>0.422852</td>\n",
              "      <td>0.019302</td>\n",
              "      <td>1.000000</td>\n",
              "      <td>0.002429</td>\n",
              "      <td>-0.025908</td>\n",
              "      <td>NaN</td>\n",
              "      <td>NaN</td>\n",
              "    </tr>\n",
              "    <tr>\n",
              "      <th>result</th>\n",
              "      <td>0.015937</td>\n",
              "      <td>-0.002990</td>\n",
              "      <td>-0.043761</td>\n",
              "      <td>-0.037225</td>\n",
              "      <td>0.020218</td>\n",
              "      <td>0.002429</td>\n",
              "      <td>1.000000</td>\n",
              "      <td>0.549009</td>\n",
              "      <td>NaN</td>\n",
              "      <td>NaN</td>\n",
              "    </tr>\n",
              "    <tr>\n",
              "      <th>result_margin</th>\n",
              "      <td>0.007910</td>\n",
              "      <td>-0.052701</td>\n",
              "      <td>-0.054797</td>\n",
              "      <td>-0.054127</td>\n",
              "      <td>-0.028201</td>\n",
              "      <td>-0.025908</td>\n",
              "      <td>0.549009</td>\n",
              "      <td>1.000000</td>\n",
              "      <td>NaN</td>\n",
              "      <td>NaN</td>\n",
              "    </tr>\n",
              "    <tr>\n",
              "      <th>eliminator</th>\n",
              "      <td>NaN</td>\n",
              "      <td>NaN</td>\n",
              "      <td>NaN</td>\n",
              "      <td>NaN</td>\n",
              "      <td>NaN</td>\n",
              "      <td>NaN</td>\n",
              "      <td>NaN</td>\n",
              "      <td>NaN</td>\n",
              "      <td>NaN</td>\n",
              "      <td>NaN</td>\n",
              "    </tr>\n",
              "    <tr>\n",
              "      <th>Won Batting first</th>\n",
              "      <td>NaN</td>\n",
              "      <td>NaN</td>\n",
              "      <td>NaN</td>\n",
              "      <td>NaN</td>\n",
              "      <td>NaN</td>\n",
              "      <td>NaN</td>\n",
              "      <td>NaN</td>\n",
              "      <td>NaN</td>\n",
              "      <td>NaN</td>\n",
              "      <td>NaN</td>\n",
              "    </tr>\n",
              "  </tbody>\n",
              "</table>\n",
              "</div>\n",
              "      <button class=\"colab-df-convert\" onclick=\"convertToInteractive('df-f004f43f-c12d-4486-b6bb-05c03972859b')\"\n",
              "              title=\"Convert this dataframe to an interactive table.\"\n",
              "              style=\"display:none;\">\n",
              "        \n",
              "  <svg xmlns=\"http://www.w3.org/2000/svg\" height=\"24px\"viewBox=\"0 0 24 24\"\n",
              "       width=\"24px\">\n",
              "    <path d=\"M0 0h24v24H0V0z\" fill=\"none\"/>\n",
              "    <path d=\"M18.56 5.44l.94 2.06.94-2.06 2.06-.94-2.06-.94-.94-2.06-.94 2.06-2.06.94zm-11 1L8.5 8.5l.94-2.06 2.06-.94-2.06-.94L8.5 2.5l-.94 2.06-2.06.94zm10 10l.94 2.06.94-2.06 2.06-.94-2.06-.94-.94-2.06-.94 2.06-2.06.94z\"/><path d=\"M17.41 7.96l-1.37-1.37c-.4-.4-.92-.59-1.43-.59-.52 0-1.04.2-1.43.59L10.3 9.45l-7.72 7.72c-.78.78-.78 2.05 0 2.83L4 21.41c.39.39.9.59 1.41.59.51 0 1.02-.2 1.41-.59l7.78-7.78 2.81-2.81c.8-.78.8-2.07 0-2.86zM5.41 20L4 18.59l7.72-7.72 1.47 1.35L5.41 20z\"/>\n",
              "  </svg>\n",
              "      </button>\n",
              "      \n",
              "  <style>\n",
              "    .colab-df-container {\n",
              "      display:flex;\n",
              "      flex-wrap:wrap;\n",
              "      gap: 12px;\n",
              "    }\n",
              "\n",
              "    .colab-df-convert {\n",
              "      background-color: #E8F0FE;\n",
              "      border: none;\n",
              "      border-radius: 50%;\n",
              "      cursor: pointer;\n",
              "      display: none;\n",
              "      fill: #1967D2;\n",
              "      height: 32px;\n",
              "      padding: 0 0 0 0;\n",
              "      width: 32px;\n",
              "    }\n",
              "\n",
              "    .colab-df-convert:hover {\n",
              "      background-color: #E2EBFA;\n",
              "      box-shadow: 0px 1px 2px rgba(60, 64, 67, 0.3), 0px 1px 3px 1px rgba(60, 64, 67, 0.15);\n",
              "      fill: #174EA6;\n",
              "    }\n",
              "\n",
              "    [theme=dark] .colab-df-convert {\n",
              "      background-color: #3B4455;\n",
              "      fill: #D2E3FC;\n",
              "    }\n",
              "\n",
              "    [theme=dark] .colab-df-convert:hover {\n",
              "      background-color: #434B5C;\n",
              "      box-shadow: 0px 1px 3px 1px rgba(0, 0, 0, 0.15);\n",
              "      filter: drop-shadow(0px 1px 2px rgba(0, 0, 0, 0.3));\n",
              "      fill: #FFFFFF;\n",
              "    }\n",
              "  </style>\n",
              "\n",
              "      <script>\n",
              "        const buttonEl =\n",
              "          document.querySelector('#df-f004f43f-c12d-4486-b6bb-05c03972859b button.colab-df-convert');\n",
              "        buttonEl.style.display =\n",
              "          google.colab.kernel.accessAllowed ? 'block' : 'none';\n",
              "\n",
              "        async function convertToInteractive(key) {\n",
              "          const element = document.querySelector('#df-f004f43f-c12d-4486-b6bb-05c03972859b');\n",
              "          const dataTable =\n",
              "            await google.colab.kernel.invokeFunction('convertToInteractive',\n",
              "                                                     [key], {});\n",
              "          if (!dataTable) return;\n",
              "\n",
              "          const docLinkHtml = 'Like what you see? Visit the ' +\n",
              "            '<a target=\"_blank\" href=https://colab.research.google.com/notebooks/data_table.ipynb>data table notebook</a>'\n",
              "            + ' to learn more about interactive tables.';\n",
              "          element.innerHTML = '';\n",
              "          dataTable['output_type'] = 'display_data';\n",
              "          await google.colab.output.renderOutput(dataTable, element);\n",
              "          const docLink = document.createElement('div');\n",
              "          docLink.innerHTML = docLinkHtml;\n",
              "          element.appendChild(docLink);\n",
              "        }\n",
              "      </script>\n",
              "    </div>\n",
              "  </div>\n",
              "  "
            ]
          },
          "metadata": {},
          "execution_count": 56
        }
      ]
    },
    {
      "cell_type": "code",
      "execution_count": 29,
      "id": "436a370f",
      "metadata": {
        "colab": {
          "base_uri": "https://localhost:8080/",
          "height": 206
        },
        "id": "436a370f",
        "outputId": "d01981de-6fb8-4a79-da3a-7c31cfdaa208"
      },
      "outputs": [
        {
          "output_type": "execute_result",
          "data": {
            "text/plain": [
              "   neutral_venue  team1  team2  toss_winner  toss_decision  winner  result  \\\n",
              "0              0      1      5            1              0       5       1   \n",
              "1              0      2      8            8              1       8       1   \n",
              "2              0      3      6            6              1       3       0   \n",
              "3              0      4      1            4              1       1       0   \n",
              "4              0      5      7            7              1       5       0   \n",
              "\n",
              "   result_margin  eliminator  \n",
              "0            140           0  \n",
              "1             33           0  \n",
              "2              9           0  \n",
              "3              5           0  \n",
              "4              5           0  "
            ],
            "text/html": [
              "\n",
              "  <div id=\"df-ba902cf4-823a-4910-aff7-3f0cd3301c8e\">\n",
              "    <div class=\"colab-df-container\">\n",
              "      <div>\n",
              "<style scoped>\n",
              "    .dataframe tbody tr th:only-of-type {\n",
              "        vertical-align: middle;\n",
              "    }\n",
              "\n",
              "    .dataframe tbody tr th {\n",
              "        vertical-align: top;\n",
              "    }\n",
              "\n",
              "    .dataframe thead th {\n",
              "        text-align: right;\n",
              "    }\n",
              "</style>\n",
              "<table border=\"1\" class=\"dataframe\">\n",
              "  <thead>\n",
              "    <tr style=\"text-align: right;\">\n",
              "      <th></th>\n",
              "      <th>neutral_venue</th>\n",
              "      <th>team1</th>\n",
              "      <th>team2</th>\n",
              "      <th>toss_winner</th>\n",
              "      <th>toss_decision</th>\n",
              "      <th>winner</th>\n",
              "      <th>result</th>\n",
              "      <th>result_margin</th>\n",
              "      <th>eliminator</th>\n",
              "    </tr>\n",
              "  </thead>\n",
              "  <tbody>\n",
              "    <tr>\n",
              "      <th>0</th>\n",
              "      <td>0</td>\n",
              "      <td>1</td>\n",
              "      <td>5</td>\n",
              "      <td>1</td>\n",
              "      <td>0</td>\n",
              "      <td>5</td>\n",
              "      <td>1</td>\n",
              "      <td>140</td>\n",
              "      <td>0</td>\n",
              "    </tr>\n",
              "    <tr>\n",
              "      <th>1</th>\n",
              "      <td>0</td>\n",
              "      <td>2</td>\n",
              "      <td>8</td>\n",
              "      <td>8</td>\n",
              "      <td>1</td>\n",
              "      <td>8</td>\n",
              "      <td>1</td>\n",
              "      <td>33</td>\n",
              "      <td>0</td>\n",
              "    </tr>\n",
              "    <tr>\n",
              "      <th>2</th>\n",
              "      <td>0</td>\n",
              "      <td>3</td>\n",
              "      <td>6</td>\n",
              "      <td>6</td>\n",
              "      <td>1</td>\n",
              "      <td>3</td>\n",
              "      <td>0</td>\n",
              "      <td>9</td>\n",
              "      <td>0</td>\n",
              "    </tr>\n",
              "    <tr>\n",
              "      <th>3</th>\n",
              "      <td>0</td>\n",
              "      <td>4</td>\n",
              "      <td>1</td>\n",
              "      <td>4</td>\n",
              "      <td>1</td>\n",
              "      <td>1</td>\n",
              "      <td>0</td>\n",
              "      <td>5</td>\n",
              "      <td>0</td>\n",
              "    </tr>\n",
              "    <tr>\n",
              "      <th>4</th>\n",
              "      <td>0</td>\n",
              "      <td>5</td>\n",
              "      <td>7</td>\n",
              "      <td>7</td>\n",
              "      <td>1</td>\n",
              "      <td>5</td>\n",
              "      <td>0</td>\n",
              "      <td>5</td>\n",
              "      <td>0</td>\n",
              "    </tr>\n",
              "  </tbody>\n",
              "</table>\n",
              "</div>\n",
              "      <button class=\"colab-df-convert\" onclick=\"convertToInteractive('df-ba902cf4-823a-4910-aff7-3f0cd3301c8e')\"\n",
              "              title=\"Convert this dataframe to an interactive table.\"\n",
              "              style=\"display:none;\">\n",
              "        \n",
              "  <svg xmlns=\"http://www.w3.org/2000/svg\" height=\"24px\"viewBox=\"0 0 24 24\"\n",
              "       width=\"24px\">\n",
              "    <path d=\"M0 0h24v24H0V0z\" fill=\"none\"/>\n",
              "    <path d=\"M18.56 5.44l.94 2.06.94-2.06 2.06-.94-2.06-.94-.94-2.06-.94 2.06-2.06.94zm-11 1L8.5 8.5l.94-2.06 2.06-.94-2.06-.94L8.5 2.5l-.94 2.06-2.06.94zm10 10l.94 2.06.94-2.06 2.06-.94-2.06-.94-.94-2.06-.94 2.06-2.06.94z\"/><path d=\"M17.41 7.96l-1.37-1.37c-.4-.4-.92-.59-1.43-.59-.52 0-1.04.2-1.43.59L10.3 9.45l-7.72 7.72c-.78.78-.78 2.05 0 2.83L4 21.41c.39.39.9.59 1.41.59.51 0 1.02-.2 1.41-.59l7.78-7.78 2.81-2.81c.8-.78.8-2.07 0-2.86zM5.41 20L4 18.59l7.72-7.72 1.47 1.35L5.41 20z\"/>\n",
              "  </svg>\n",
              "      </button>\n",
              "      \n",
              "  <style>\n",
              "    .colab-df-container {\n",
              "      display:flex;\n",
              "      flex-wrap:wrap;\n",
              "      gap: 12px;\n",
              "    }\n",
              "\n",
              "    .colab-df-convert {\n",
              "      background-color: #E8F0FE;\n",
              "      border: none;\n",
              "      border-radius: 50%;\n",
              "      cursor: pointer;\n",
              "      display: none;\n",
              "      fill: #1967D2;\n",
              "      height: 32px;\n",
              "      padding: 0 0 0 0;\n",
              "      width: 32px;\n",
              "    }\n",
              "\n",
              "    .colab-df-convert:hover {\n",
              "      background-color: #E2EBFA;\n",
              "      box-shadow: 0px 1px 2px rgba(60, 64, 67, 0.3), 0px 1px 3px 1px rgba(60, 64, 67, 0.15);\n",
              "      fill: #174EA6;\n",
              "    }\n",
              "\n",
              "    [theme=dark] .colab-df-convert {\n",
              "      background-color: #3B4455;\n",
              "      fill: #D2E3FC;\n",
              "    }\n",
              "\n",
              "    [theme=dark] .colab-df-convert:hover {\n",
              "      background-color: #434B5C;\n",
              "      box-shadow: 0px 1px 3px 1px rgba(0, 0, 0, 0.15);\n",
              "      filter: drop-shadow(0px 1px 2px rgba(0, 0, 0, 0.3));\n",
              "      fill: #FFFFFF;\n",
              "    }\n",
              "  </style>\n",
              "\n",
              "      <script>\n",
              "        const buttonEl =\n",
              "          document.querySelector('#df-ba902cf4-823a-4910-aff7-3f0cd3301c8e button.colab-df-convert');\n",
              "        buttonEl.style.display =\n",
              "          google.colab.kernel.accessAllowed ? 'block' : 'none';\n",
              "\n",
              "        async function convertToInteractive(key) {\n",
              "          const element = document.querySelector('#df-ba902cf4-823a-4910-aff7-3f0cd3301c8e');\n",
              "          const dataTable =\n",
              "            await google.colab.kernel.invokeFunction('convertToInteractive',\n",
              "                                                     [key], {});\n",
              "          if (!dataTable) return;\n",
              "\n",
              "          const docLinkHtml = 'Like what you see? Visit the ' +\n",
              "            '<a target=\"_blank\" href=https://colab.research.google.com/notebooks/data_table.ipynb>data table notebook</a>'\n",
              "            + ' to learn more about interactive tables.';\n",
              "          element.innerHTML = '';\n",
              "          dataTable['output_type'] = 'display_data';\n",
              "          await google.colab.output.renderOutput(dataTable, element);\n",
              "          const docLink = document.createElement('div');\n",
              "          docLink.innerHTML = docLinkHtml;\n",
              "          element.appendChild(docLink);\n",
              "        }\n",
              "      </script>\n",
              "    </div>\n",
              "  </div>\n",
              "  "
            ]
          },
          "metadata": {},
          "execution_count": 29
        }
      ],
      "source": [
        "df.head()"
      ]
    },
    {
      "cell_type": "code",
      "execution_count": 30,
      "id": "43310de9",
      "metadata": {
        "id": "43310de9",
        "outputId": "24eb826f-9a2c-4390-c2b0-fb71278cebf3",
        "colab": {
          "base_uri": "https://localhost:8080/"
        }
      },
      "outputs": [
        {
          "output_type": "stream",
          "name": "stdout",
          "text": [
            "(786, 9)\n"
          ]
        }
      ],
      "source": [
        "print(df.shape)"
      ]
    },
    {
      "cell_type": "markdown",
      "source": [
        "**Developing the Artificial Neural Network  :**\n"
      ],
      "metadata": {
        "id": "4icxvCQcORRQ"
      },
      "id": "4icxvCQcORRQ"
    },
    {
      "cell_type": "markdown",
      "source": [
        "**ANN - I** : In this Network we predict the Winner of the match using the ***available*** dataset."
      ],
      "metadata": {
        "id": "eFooe3fuTToy"
      },
      "id": "eFooe3fuTToy"
    },
    {
      "cell_type": "code",
      "execution_count": 31,
      "id": "abc18523",
      "metadata": {
        "colab": {
          "base_uri": "https://localhost:8080/"
        },
        "id": "abc18523",
        "outputId": "b6936725-9120-4339-9fe8-62cdfe607eb0"
      },
      "outputs": [
        {
          "output_type": "stream",
          "name": "stdout",
          "text": [
            "Model: \"sequential\"\n",
            "_________________________________________________________________\n",
            " Layer (type)                Output Shape              Param #   \n",
            "=================================================================\n",
            " dense (Dense)               (None, 45)                405       \n",
            "                                                                 \n",
            " dense_1 (Dense)             (None, 20)                920       \n",
            "                                                                 \n",
            " dense_2 (Dense)             (None, 21)                441       \n",
            "                                                                 \n",
            " dense_3 (Dense)             (None, 20)                440       \n",
            "                                                                 \n",
            " dense_4 (Dense)             (None, 1)                 21        \n",
            "                                                                 \n",
            "=================================================================\n",
            "Total params: 2,227\n",
            "Trainable params: 2,227\n",
            "Non-trainable params: 0\n",
            "_________________________________________________________________\n"
          ]
        }
      ],
      "source": [
        "model = Sequential()\n",
        "model.add(Dense(45, activation='linear', input_shape=(8,)))\n",
        "model.add(Dense(20, activation='linear'))\n",
        "model.add(Dense(21, activation='relu'))\n",
        "model.add(Dense(20, activation='linear'))\n",
        "model.add(Dense(1, activation='linear'))\n",
        "model.summary()"
      ]
    },
    {
      "cell_type": "markdown",
      "source": [
        "**Test Train data splitting**"
      ],
      "metadata": {
        "id": "cRCspBCXOhrH"
      },
      "id": "cRCspBCXOhrH"
    },
    {
      "cell_type": "code",
      "execution_count": 32,
      "id": "ccfb7af0-42fd-4f68-9427-af44f70fcccf",
      "metadata": {
        "id": "ccfb7af0-42fd-4f68-9427-af44f70fcccf"
      },
      "outputs": [],
      "source": [
        "X = df[['neutral_venue','team1','team2','toss_winner','toss_decision',\n",
        "'result','result_margin','eliminator']].values      \n",
        "y = df['winner'].values  \n",
        "X_train,X_test,y_train,y_test = train_test_split(X,y,random_state = 40)\n",
        "y_train = tensorfloww.convert_to_tensor(y_train)\n",
        "y_test = tensorfloww.convert_to_tensor(y_test)"
      ]
    },
    {
      "cell_type": "code",
      "execution_count": 33,
      "id": "74ad9775",
      "metadata": {
        "id": "74ad9775"
      },
      "outputs": [],
      "source": [
        "X_train = tensorfloww.convert_to_tensor(X_train)\n",
        "X_test = tensorfloww.convert_to_tensor(X_test)"
      ]
    },
    {
      "cell_type": "markdown",
      "source": [
        "**Model Compilation :**"
      ],
      "metadata": {
        "id": "FkEbqZ-_OvRx"
      },
      "id": "FkEbqZ-_OvRx"
    },
    {
      "cell_type": "code",
      "execution_count": 34,
      "id": "b5744936",
      "metadata": {
        "id": "b5744936"
      },
      "outputs": [],
      "source": [
        "model.compile(loss='hinge',optimizer=SGD(),metrics=['accuracy'])"
      ]
    },
    {
      "cell_type": "markdown",
      "source": [
        "**Network Training :**"
      ],
      "metadata": {
        "id": "-qCkqbDYPJ9w"
      },
      "id": "-qCkqbDYPJ9w"
    },
    {
      "cell_type": "code",
      "execution_count": 35,
      "id": "c4b30350",
      "metadata": {
        "colab": {
          "base_uri": "https://localhost:8080/"
        },
        "id": "c4b30350",
        "outputId": "ee568950-391a-45a7-cc57-14d4a50345b6"
      },
      "outputs": [
        {
          "output_type": "stream",
          "name": "stdout",
          "text": [
            "Epoch 1/5\n",
            "589/589 [==============================] - 2s 2ms/step - loss: 0.0089 - accuracy: 0.1070\n",
            "Epoch 2/5\n",
            "589/589 [==============================] - 2s 3ms/step - loss: 0.0000e+00 - accuracy: 0.1087\n",
            "Epoch 3/5\n",
            "589/589 [==============================] - 3s 4ms/step - loss: 0.0000e+00 - accuracy: 0.1087\n",
            "Epoch 4/5\n",
            "589/589 [==============================] - 2s 4ms/step - loss: 0.0000e+00 - accuracy: 0.1087\n",
            "Epoch 5/5\n",
            "589/589 [==============================] - 2s 4ms/step - loss: 0.0000e+00 - accuracy: 0.1087\n"
          ]
        },
        {
          "output_type": "execute_result",
          "data": {
            "text/plain": [
              "<keras.callbacks.History at 0x7fa3bd544710>"
            ]
          },
          "metadata": {},
          "execution_count": 35
        }
      ],
      "source": [
        "model.fit(X_train,y_train,epochs=5,batch_size=1)"
      ]
    },
    {
      "cell_type": "markdown",
      "source": [
        "Evaluating the Network model's score."
      ],
      "metadata": {
        "id": "Jvo3VDf2POc-"
      },
      "id": "Jvo3VDf2POc-"
    },
    {
      "cell_type": "code",
      "execution_count": 36,
      "id": "50b75af1-1ab0-4c7d-bc20-9f4bee6d9ca4",
      "metadata": {
        "colab": {
          "base_uri": "https://localhost:8080/"
        },
        "id": "50b75af1-1ab0-4c7d-bc20-9f4bee6d9ca4",
        "outputId": "4e54b3fa-4f17-4cee-be79-19aa559fa150"
      },
      "outputs": [
        {
          "output_type": "stream",
          "name": "stdout",
          "text": [
            "Test-loss =  0.0\n",
            "Test-accuracy =  0.11675126850605011\n"
          ]
        }
      ],
      "source": [
        "score = model.evaluate(X_test,y_test,verbose = 0)\n",
        "print(\"Test-loss = \",score[0])\n",
        "print(\"Test-accuracy = \",score[1])"
      ]
    },
    {
      "cell_type": "markdown",
      "source": [
        "**Checking Output for a Case :**"
      ],
      "metadata": {
        "id": "BNQk0vNCPd50"
      },
      "id": "BNQk0vNCPd50"
    },
    {
      "cell_type": "code",
      "execution_count": 37,
      "id": "c87488eb",
      "metadata": {
        "colab": {
          "base_uri": "https://localhost:8080/"
        },
        "id": "c87488eb",
        "outputId": "a44e4c47-1215-4aff-ac30-693020bf8581"
      },
      "outputs": [
        {
          "output_type": "stream",
          "name": "stdout",
          "text": [
            "Team_2 Won the game\n"
          ]
        }
      ],
      "source": [
        "Team_1 = 5\n",
        "Team_2 = 1\n",
        "result = model.predict([[1,Team_1,Team_2,Team_2,0,0,3,0]])\n",
        "if((Team_1-result)<(Team_2-result)):\n",
        "  print(\"Team_ 1 Won the game\")\n",
        "else:\n",
        "  print(\"Team_2 Won the game\")"
      ]
    },
    {
      "cell_type": "markdown",
      "source": [
        "**Creating an array for adding a new Field into exsisting dataset**"
      ],
      "metadata": {
        "id": "uJUY5BbTPyXj"
      },
      "id": "uJUY5BbTPyXj"
    },
    {
      "cell_type": "code",
      "source": [
        "initializer = []\n",
        "for i in range (0,len(df)):\n",
        "  initializer.append(0)"
      ],
      "metadata": {
        "id": "IwxAvBod2r45"
      },
      "id": "IwxAvBod2r45",
      "execution_count": 38,
      "outputs": []
    },
    {
      "cell_type": "markdown",
      "source": [
        "**Adding new field**"
      ],
      "metadata": {
        "id": "TosdkFL3P-3V"
      },
      "id": "TosdkFL3P-3V"
    },
    {
      "cell_type": "code",
      "source": [
        "df['Won Batting first'] = initializer\n",
        "print(df.dtypes)"
      ],
      "metadata": {
        "colab": {
          "base_uri": "https://localhost:8080/"
        },
        "id": "BxVgqMwlnh7l",
        "outputId": "bbb9b996-8f11-4c76-8ef4-0a30a40281ca"
      },
      "id": "BxVgqMwlnh7l",
      "execution_count": 39,
      "outputs": [
        {
          "output_type": "stream",
          "name": "stdout",
          "text": [
            "neutral_venue        int64\n",
            "team1                int64\n",
            "team2                int64\n",
            "toss_winner          int64\n",
            "toss_decision        int64\n",
            "winner               int64\n",
            "result               int64\n",
            "result_margin        int64\n",
            "eliminator           int64\n",
            "Won Batting first    int64\n",
            "dtype: object\n"
          ]
        }
      ]
    },
    {
      "cell_type": "markdown",
      "source": [
        "**Updating the newly added field :**"
      ],
      "metadata": {
        "id": "l4dz-145QFvx"
      },
      "id": "l4dz-145QFvx"
    },
    {
      "cell_type": "code",
      "source": [
        "for index,row in df.iterrows():\n",
        "  if row['toss_winner'] == row['winner'] and row['toss_decision'] == 1:\n",
        "    df['Won Batting first'] = 1"
      ],
      "metadata": {
        "id": "37zLv6YvpVQl"
      },
      "id": "37zLv6YvpVQl",
      "execution_count": 40,
      "outputs": []
    },
    {
      "cell_type": "code",
      "source": [
        "df.head()"
      ],
      "metadata": {
        "colab": {
          "base_uri": "https://localhost:8080/",
          "height": 206
        },
        "id": "hVbwYm9qucTh",
        "outputId": "817271d6-e522-4962-913c-b18dff7924f4"
      },
      "id": "hVbwYm9qucTh",
      "execution_count": 41,
      "outputs": [
        {
          "output_type": "execute_result",
          "data": {
            "text/plain": [
              "   neutral_venue  team1  team2  toss_winner  toss_decision  winner  result  \\\n",
              "0              0      1      5            1              0       5       1   \n",
              "1              0      2      8            8              1       8       1   \n",
              "2              0      3      6            6              1       3       0   \n",
              "3              0      4      1            4              1       1       0   \n",
              "4              0      5      7            7              1       5       0   \n",
              "\n",
              "   result_margin  eliminator  Won Batting first  \n",
              "0            140           0                  1  \n",
              "1             33           0                  1  \n",
              "2              9           0                  1  \n",
              "3              5           0                  1  \n",
              "4              5           0                  1  "
            ],
            "text/html": [
              "\n",
              "  <div id=\"df-633f092d-12ec-4de7-8848-ed3e44078d85\">\n",
              "    <div class=\"colab-df-container\">\n",
              "      <div>\n",
              "<style scoped>\n",
              "    .dataframe tbody tr th:only-of-type {\n",
              "        vertical-align: middle;\n",
              "    }\n",
              "\n",
              "    .dataframe tbody tr th {\n",
              "        vertical-align: top;\n",
              "    }\n",
              "\n",
              "    .dataframe thead th {\n",
              "        text-align: right;\n",
              "    }\n",
              "</style>\n",
              "<table border=\"1\" class=\"dataframe\">\n",
              "  <thead>\n",
              "    <tr style=\"text-align: right;\">\n",
              "      <th></th>\n",
              "      <th>neutral_venue</th>\n",
              "      <th>team1</th>\n",
              "      <th>team2</th>\n",
              "      <th>toss_winner</th>\n",
              "      <th>toss_decision</th>\n",
              "      <th>winner</th>\n",
              "      <th>result</th>\n",
              "      <th>result_margin</th>\n",
              "      <th>eliminator</th>\n",
              "      <th>Won Batting first</th>\n",
              "    </tr>\n",
              "  </thead>\n",
              "  <tbody>\n",
              "    <tr>\n",
              "      <th>0</th>\n",
              "      <td>0</td>\n",
              "      <td>1</td>\n",
              "      <td>5</td>\n",
              "      <td>1</td>\n",
              "      <td>0</td>\n",
              "      <td>5</td>\n",
              "      <td>1</td>\n",
              "      <td>140</td>\n",
              "      <td>0</td>\n",
              "      <td>1</td>\n",
              "    </tr>\n",
              "    <tr>\n",
              "      <th>1</th>\n",
              "      <td>0</td>\n",
              "      <td>2</td>\n",
              "      <td>8</td>\n",
              "      <td>8</td>\n",
              "      <td>1</td>\n",
              "      <td>8</td>\n",
              "      <td>1</td>\n",
              "      <td>33</td>\n",
              "      <td>0</td>\n",
              "      <td>1</td>\n",
              "    </tr>\n",
              "    <tr>\n",
              "      <th>2</th>\n",
              "      <td>0</td>\n",
              "      <td>3</td>\n",
              "      <td>6</td>\n",
              "      <td>6</td>\n",
              "      <td>1</td>\n",
              "      <td>3</td>\n",
              "      <td>0</td>\n",
              "      <td>9</td>\n",
              "      <td>0</td>\n",
              "      <td>1</td>\n",
              "    </tr>\n",
              "    <tr>\n",
              "      <th>3</th>\n",
              "      <td>0</td>\n",
              "      <td>4</td>\n",
              "      <td>1</td>\n",
              "      <td>4</td>\n",
              "      <td>1</td>\n",
              "      <td>1</td>\n",
              "      <td>0</td>\n",
              "      <td>5</td>\n",
              "      <td>0</td>\n",
              "      <td>1</td>\n",
              "    </tr>\n",
              "    <tr>\n",
              "      <th>4</th>\n",
              "      <td>0</td>\n",
              "      <td>5</td>\n",
              "      <td>7</td>\n",
              "      <td>7</td>\n",
              "      <td>1</td>\n",
              "      <td>5</td>\n",
              "      <td>0</td>\n",
              "      <td>5</td>\n",
              "      <td>0</td>\n",
              "      <td>1</td>\n",
              "    </tr>\n",
              "  </tbody>\n",
              "</table>\n",
              "</div>\n",
              "      <button class=\"colab-df-convert\" onclick=\"convertToInteractive('df-633f092d-12ec-4de7-8848-ed3e44078d85')\"\n",
              "              title=\"Convert this dataframe to an interactive table.\"\n",
              "              style=\"display:none;\">\n",
              "        \n",
              "  <svg xmlns=\"http://www.w3.org/2000/svg\" height=\"24px\"viewBox=\"0 0 24 24\"\n",
              "       width=\"24px\">\n",
              "    <path d=\"M0 0h24v24H0V0z\" fill=\"none\"/>\n",
              "    <path d=\"M18.56 5.44l.94 2.06.94-2.06 2.06-.94-2.06-.94-.94-2.06-.94 2.06-2.06.94zm-11 1L8.5 8.5l.94-2.06 2.06-.94-2.06-.94L8.5 2.5l-.94 2.06-2.06.94zm10 10l.94 2.06.94-2.06 2.06-.94-2.06-.94-.94-2.06-.94 2.06-2.06.94z\"/><path d=\"M17.41 7.96l-1.37-1.37c-.4-.4-.92-.59-1.43-.59-.52 0-1.04.2-1.43.59L10.3 9.45l-7.72 7.72c-.78.78-.78 2.05 0 2.83L4 21.41c.39.39.9.59 1.41.59.51 0 1.02-.2 1.41-.59l7.78-7.78 2.81-2.81c.8-.78.8-2.07 0-2.86zM5.41 20L4 18.59l7.72-7.72 1.47 1.35L5.41 20z\"/>\n",
              "  </svg>\n",
              "      </button>\n",
              "      \n",
              "  <style>\n",
              "    .colab-df-container {\n",
              "      display:flex;\n",
              "      flex-wrap:wrap;\n",
              "      gap: 12px;\n",
              "    }\n",
              "\n",
              "    .colab-df-convert {\n",
              "      background-color: #E8F0FE;\n",
              "      border: none;\n",
              "      border-radius: 50%;\n",
              "      cursor: pointer;\n",
              "      display: none;\n",
              "      fill: #1967D2;\n",
              "      height: 32px;\n",
              "      padding: 0 0 0 0;\n",
              "      width: 32px;\n",
              "    }\n",
              "\n",
              "    .colab-df-convert:hover {\n",
              "      background-color: #E2EBFA;\n",
              "      box-shadow: 0px 1px 2px rgba(60, 64, 67, 0.3), 0px 1px 3px 1px rgba(60, 64, 67, 0.15);\n",
              "      fill: #174EA6;\n",
              "    }\n",
              "\n",
              "    [theme=dark] .colab-df-convert {\n",
              "      background-color: #3B4455;\n",
              "      fill: #D2E3FC;\n",
              "    }\n",
              "\n",
              "    [theme=dark] .colab-df-convert:hover {\n",
              "      background-color: #434B5C;\n",
              "      box-shadow: 0px 1px 3px 1px rgba(0, 0, 0, 0.15);\n",
              "      filter: drop-shadow(0px 1px 2px rgba(0, 0, 0, 0.3));\n",
              "      fill: #FFFFFF;\n",
              "    }\n",
              "  </style>\n",
              "\n",
              "      <script>\n",
              "        const buttonEl =\n",
              "          document.querySelector('#df-633f092d-12ec-4de7-8848-ed3e44078d85 button.colab-df-convert');\n",
              "        buttonEl.style.display =\n",
              "          google.colab.kernel.accessAllowed ? 'block' : 'none';\n",
              "\n",
              "        async function convertToInteractive(key) {\n",
              "          const element = document.querySelector('#df-633f092d-12ec-4de7-8848-ed3e44078d85');\n",
              "          const dataTable =\n",
              "            await google.colab.kernel.invokeFunction('convertToInteractive',\n",
              "                                                     [key], {});\n",
              "          if (!dataTable) return;\n",
              "\n",
              "          const docLinkHtml = 'Like what you see? Visit the ' +\n",
              "            '<a target=\"_blank\" href=https://colab.research.google.com/notebooks/data_table.ipynb>data table notebook</a>'\n",
              "            + ' to learn more about interactive tables.';\n",
              "          element.innerHTML = '';\n",
              "          dataTable['output_type'] = 'display_data';\n",
              "          await google.colab.output.renderOutput(dataTable, element);\n",
              "          const docLink = document.createElement('div');\n",
              "          docLink.innerHTML = docLinkHtml;\n",
              "          element.appendChild(docLink);\n",
              "        }\n",
              "      </script>\n",
              "    </div>\n",
              "  </div>\n",
              "  "
            ]
          },
          "metadata": {},
          "execution_count": 41
        }
      ]
    },
    {
      "cell_type": "markdown",
      "source": [
        "**Train-test split for Artificial Neural Network - II**"
      ],
      "metadata": {
        "id": "j4-JM7OyQUaE"
      },
      "id": "j4-JM7OyQUaE"
    },
    {
      "cell_type": "code",
      "source": [
        "X = df[['team1', 'team2','Won Batting first']].values\n",
        "y = df['winner'].values\n",
        "X_train,X_test,y_train,y_test  = train_test_split(X,y,random_state=50)\n",
        "X_train = tensorfloww.convert_to_tensor(X_train)\n",
        "X_test = tensorfloww.convert_to_tensor(X_test)\n",
        "y_train = tensorfloww.convert_to_tensor(y_train)\n",
        "y_test = tensorfloww.convert_to_tensor(y_test)"
      ],
      "metadata": {
        "id": "-mmHslkwv0VQ"
      },
      "id": "-mmHslkwv0VQ",
      "execution_count": 42,
      "outputs": []
    },
    {
      "cell_type": "markdown",
      "source": [
        "**Artificial Neural Network - II**\n",
        "In this Network we predict the Winner of the match using the ***updated*** dataset."
      ],
      "metadata": {
        "id": "Ni9R-hPcQiQu"
      },
      "id": "Ni9R-hPcQiQu"
    },
    {
      "cell_type": "code",
      "source": [
        "model  = Sequential()\n",
        "model.add(Dense(50, activation='linear', input_shape=(3,)))\n",
        "model.add(Dense(34,activation='relu'))\n",
        "model.add(Dense(1,activation='linear'))\n",
        "model.summary()"
      ],
      "metadata": {
        "colab": {
          "base_uri": "https://localhost:8080/"
        },
        "id": "mG71ecXtyzg0",
        "outputId": "c2056dd4-15ed-49c7-9c7f-3e533d792a32"
      },
      "id": "mG71ecXtyzg0",
      "execution_count": 43,
      "outputs": [
        {
          "output_type": "stream",
          "name": "stdout",
          "text": [
            "Model: \"sequential_1\"\n",
            "_________________________________________________________________\n",
            " Layer (type)                Output Shape              Param #   \n",
            "=================================================================\n",
            " dense_5 (Dense)             (None, 50)                200       \n",
            "                                                                 \n",
            " dense_6 (Dense)             (None, 34)                1734      \n",
            "                                                                 \n",
            " dense_7 (Dense)             (None, 1)                 35        \n",
            "                                                                 \n",
            "=================================================================\n",
            "Total params: 1,969\n",
            "Trainable params: 1,969\n",
            "Non-trainable params: 0\n",
            "_________________________________________________________________\n"
          ]
        }
      ]
    },
    {
      "cell_type": "code",
      "source": [
        "model.compile(loss = 'hinge', optimizer = Adam(), metrics = ['accuracy'])"
      ],
      "metadata": {
        "id": "i16aGZ5m1Z5e"
      },
      "id": "i16aGZ5m1Z5e",
      "execution_count": 44,
      "outputs": []
    },
    {
      "cell_type": "code",
      "source": [
        "x_validate = X_train\n",
        "y_validate = y_train\n",
        "early_stopping = EarlyStopping()\n",
        "model.fit(X_train,y_train,epochs = 5,batch_size = 1,callbacks=[early_stopping],validation_data=(x_validate, y_validate))"
      ],
      "metadata": {
        "colab": {
          "base_uri": "https://localhost:8080/"
        },
        "id": "4JiN_ap81vxB",
        "outputId": "15e69e96-d346-48f7-fcd0-4f3d3f8bf607"
      },
      "id": "4JiN_ap81vxB",
      "execution_count": 45,
      "outputs": [
        {
          "output_type": "stream",
          "name": "stdout",
          "text": [
            "Epoch 1/5\n",
            "589/589 [==============================] - 3s 5ms/step - loss: 2.1011e-04 - accuracy: 0.1087 - val_loss: 0.0000e+00 - val_accuracy: 0.1087\n",
            "Epoch 2/5\n",
            "589/589 [==============================] - 2s 3ms/step - loss: 0.0000e+00 - accuracy: 0.1087 - val_loss: 0.0000e+00 - val_accuracy: 0.1087\n"
          ]
        },
        {
          "output_type": "execute_result",
          "data": {
            "text/plain": [
              "<keras.callbacks.History at 0x7fa3bcf04c90>"
            ]
          },
          "metadata": {},
          "execution_count": 45
        }
      ]
    },
    {
      "cell_type": "code",
      "source": [
        "score = model.evaluate(X_test,y_test,verbose = 0)\n",
        "print(\"Test-loss = \",score[0])\n",
        "print(\"Test-accuracy = \",score[1])"
      ],
      "metadata": {
        "colab": {
          "base_uri": "https://localhost:8080/"
        },
        "id": "PdzXCuu63Ao1",
        "outputId": "e8282deb-5fba-4467-c8de-53a5c2cf6ceb"
      },
      "id": "PdzXCuu63Ao1",
      "execution_count": 46,
      "outputs": [
        {
          "output_type": "stream",
          "name": "stdout",
          "text": [
            "Test-loss =  0.0\n",
            "Test-accuracy =  0.11675126850605011\n"
          ]
        }
      ]
    },
    {
      "cell_type": "code",
      "source": [
        "Team_1 = 12\n",
        "Team_2 = 11\n",
        "result = model.predict([[Team_1,Team_2,0]])\n",
        "if((Team_1-result) < (Team_2-result)):\n",
        "  print(\"Team_ 1 Won the game\")\n",
        "else:\n",
        "  print(\"Team_2 Won the game\")"
      ],
      "metadata": {
        "colab": {
          "base_uri": "https://localhost:8080/"
        },
        "id": "c5NAkTvB3Lqi",
        "outputId": "230eb9d5-1ad3-4dbf-cdf5-2ccd13de6370"
      },
      "id": "c5NAkTvB3Lqi",
      "execution_count": 47,
      "outputs": [
        {
          "output_type": "stream",
          "name": "stdout",
          "text": [
            "Team_2 Won the game\n"
          ]
        }
      ]
    }
  ],
  "metadata": {
    "kernelspec": {
      "display_name": "Python 3 (ipykernel)",
      "language": "python",
      "name": "python3"
    },
    "language_info": {
      "codemirror_mode": {
        "name": "ipython",
        "version": 3
      },
      "file_extension": ".py",
      "mimetype": "text/x-python",
      "name": "python",
      "nbconvert_exporter": "python",
      "pygments_lexer": "ipython3",
      "version": "3.9.7"
    },
    "colab": {
      "name": "ann.ipynb",
      "provenance": [],
      "collapsed_sections": []
    }
  },
  "nbformat": 4,
  "nbformat_minor": 5
}